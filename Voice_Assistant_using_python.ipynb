{
  "nbformat": 4,
  "nbformat_minor": 0,
  "metadata": {
    "colab": {
      "provenance": [],
      "authorship_tag": "ABX9TyPHY/qtqRgAnuQ+8r1LzPeG",
      "include_colab_link": true
    },
    "kernelspec": {
      "name": "python3",
      "display_name": "Python 3"
    },
    "language_info": {
      "name": "python"
    }
  },
  "cells": [
    {
      "cell_type": "markdown",
      "metadata": {
        "id": "view-in-github",
        "colab_type": "text"
      },
      "source": [
        "<a href=\"https://colab.research.google.com/github/sneharreddy25/project_2025/blob/main/Voice_Assistant_using_python.ipynb\" target=\"_parent\"><img src=\"https://colab.research.google.com/assets/colab-badge.svg\" alt=\"Open In Colab\"/></a>"
      ]
    },
    {
      "cell_type": "code",
      "execution_count": 1,
      "metadata": {
        "id": "rcJskGC5QTD3"
      },
      "outputs": [],
      "source": [
        "# Voice Assistant using python proj"
      ]
    },
    {
      "cell_type": "code",
      "source": [
        "!pip install SpeechRecognition pyttsx3 wikipedia pyjokes"
      ],
      "metadata": {
        "colab": {
          "base_uri": "https://localhost:8080/"
        },
        "id": "kumqcGfwQe_B",
        "outputId": "2a170fde-c657-4e3a-bcd2-287795a1a851"
      },
      "execution_count": 4,
      "outputs": [
        {
          "output_type": "stream",
          "name": "stdout",
          "text": [
            "Collecting SpeechRecognition\n",
            "  Downloading speechrecognition-3.14.3-py3-none-any.whl.metadata (30 kB)\n",
            "Collecting pyttsx3\n",
            "  Downloading pyttsx3-2.98-py3-none-any.whl.metadata (3.8 kB)\n",
            "Collecting wikipedia\n",
            "  Downloading wikipedia-1.4.0.tar.gz (27 kB)\n",
            "  Preparing metadata (setup.py) ... \u001b[?25l\u001b[?25hdone\n",
            "Collecting pyjokes\n",
            "  Downloading pyjokes-0.8.3-py3-none-any.whl.metadata (3.4 kB)\n",
            "Requirement already satisfied: typing-extensions in /usr/local/lib/python3.11/dist-packages (from SpeechRecognition) (4.13.2)\n",
            "Requirement already satisfied: beautifulsoup4 in /usr/local/lib/python3.11/dist-packages (from wikipedia) (4.13.4)\n",
            "Requirement already satisfied: requests<3.0.0,>=2.0.0 in /usr/local/lib/python3.11/dist-packages (from wikipedia) (2.32.3)\n",
            "Requirement already satisfied: charset-normalizer<4,>=2 in /usr/local/lib/python3.11/dist-packages (from requests<3.0.0,>=2.0.0->wikipedia) (3.4.2)\n",
            "Requirement already satisfied: idna<4,>=2.5 in /usr/local/lib/python3.11/dist-packages (from requests<3.0.0,>=2.0.0->wikipedia) (3.10)\n",
            "Requirement already satisfied: urllib3<3,>=1.21.1 in /usr/local/lib/python3.11/dist-packages (from requests<3.0.0,>=2.0.0->wikipedia) (2.4.0)\n",
            "Requirement already satisfied: certifi>=2017.4.17 in /usr/local/lib/python3.11/dist-packages (from requests<3.0.0,>=2.0.0->wikipedia) (2025.4.26)\n",
            "Requirement already satisfied: soupsieve>1.2 in /usr/local/lib/python3.11/dist-packages (from beautifulsoup4->wikipedia) (2.7)\n",
            "Downloading speechrecognition-3.14.3-py3-none-any.whl (32.9 MB)\n",
            "\u001b[2K   \u001b[90m━━━━━━━━━━━━━━━━━━━━━━━━━━━━━━━━━━━━━━━━\u001b[0m \u001b[32m32.9/32.9 MB\u001b[0m \u001b[31m59.4 MB/s\u001b[0m eta \u001b[36m0:00:00\u001b[0m\n",
            "\u001b[?25hDownloading pyttsx3-2.98-py3-none-any.whl (34 kB)\n",
            "Downloading pyjokes-0.8.3-py3-none-any.whl (47 kB)\n",
            "\u001b[2K   \u001b[90m━━━━━━━━━━━━━━━━━━━━━━━━━━━━━━━━━━━━━━━━\u001b[0m \u001b[32m47.6/47.6 kB\u001b[0m \u001b[31m4.2 MB/s\u001b[0m eta \u001b[36m0:00:00\u001b[0m\n",
            "\u001b[?25hBuilding wheels for collected packages: wikipedia\n",
            "  Building wheel for wikipedia (setup.py) ... \u001b[?25l\u001b[?25hdone\n",
            "  Created wheel for wikipedia: filename=wikipedia-1.4.0-py3-none-any.whl size=11678 sha256=da88db35711c6648a9c8ece06fa1a3072c70a04fd52a3bd3f74a85ca6e4cb5c3\n",
            "  Stored in directory: /root/.cache/pip/wheels/8f/ab/cb/45ccc40522d3a1c41e1d2ad53b8f33a62f394011ec38cd71c6\n",
            "Successfully built wikipedia\n",
            "Installing collected packages: pyttsx3, SpeechRecognition, pyjokes, wikipedia\n",
            "Successfully installed SpeechRecognition-3.14.3 pyjokes-0.8.3 pyttsx3-2.98 wikipedia-1.4.0\n"
          ]
        }
      ]
    },
    {
      "cell_type": "code",
      "source": [
        "import speech_recognition as sr\n",
        "import pyttsx3\n",
        "import datetime\n",
        "import wikipedia\n",
        "import webbrowser\n",
        "import os\n",
        "import pyjokes"
      ],
      "metadata": {
        "id": "sGBiMf28QrnU"
      },
      "execution_count": 5,
      "outputs": []
    },
    {
      "cell_type": "code",
      "source": [
        "def speak(text):\n",
        "    print(f\"Assistant: {text}\")\n",
        "    try:\n",
        "        engine = pyttsx3.init()\n",
        "        engine.say(text)\n",
        "        engine.runAndWait()\n",
        "    except:\n",
        "        print(\"Speech output not supported in Colab.\")"
      ],
      "metadata": {
        "id": "jKxn6ObuQydP"
      },
      "execution_count": 6,
      "outputs": []
    },
    {
      "cell_type": "code",
      "source": [
        "def wish_user():\n",
        "    hour = int(datetime.datetime.now().hour)\n",
        "    if hour < 12:\n",
        "        speak(\"Good Morning!\")\n",
        "    elif hour < 18:\n",
        "        speak(\"Good Afternoon!\")\n",
        "    else:\n",
        "        speak(\"Good Evening!\")\n",
        "    speak(\"I am your voice assistant. How can I help you today?\")"
      ],
      "metadata": {
        "id": "pVHeNbBuQ62a"
      },
      "execution_count": 7,
      "outputs": []
    },
    {
      "cell_type": "code",
      "source": [
        "def take_command():\n",
        "    return input(\"You (type your command): \").lower()"
      ],
      "metadata": {
        "id": "j4gwpDUsRLfH"
      },
      "execution_count": 8,
      "outputs": []
    },
    {
      "cell_type": "code",
      "source": [
        "def run_assistant():\n",
        "    wish_user()\n",
        "    while True:\n",
        "        query = take_command()\n",
        "\n",
        "        if 'wikipedia' in query:\n",
        "            speak(\"Searching Wikipedia...\")\n",
        "            query = query.replace(\"wikipedia\", \"\")\n",
        "            try:\n",
        "                result = wikipedia.summary(query, sentences=2)\n",
        "                speak(\"According to Wikipedia:\")\n",
        "                speak(result)\n",
        "            except:\n",
        "                speak(\"Sorry, I couldn't find anything.\")\n",
        "\n",
        "        elif 'open youtube' in query:\n",
        "            speak(\"Opening YouTube...\")\n",
        "            webbrowser.open(\"https://www.youtube.com\")\n",
        "\n",
        "        elif 'open google' in query:\n",
        "            speak(\"Opening Google...\")\n",
        "            webbrowser.open(\"https://www.google.com\")\n",
        "\n",
        "        elif 'time' in query:\n",
        "            strTime = datetime.datetime.now().strftime(\"%H:%M:%S\")\n",
        "            speak(f\"The current time is {strTime}\")\n",
        "\n",
        "        elif 'joke' in query:\n",
        "            joke = pyjokes.get_joke()\n",
        "            speak(joke)\n",
        "\n",
        "        elif 'exit' in query or 'bye' in query:\n",
        "            speak(\"Goodbye! Have a nice day!\")\n",
        "            break\n",
        "\n",
        "        else:\n",
        "            speak(\"Sorry, I didn't understand that. Try again.\")\n",
        ""
      ],
      "metadata": {
        "id": "mtRadlrZT7kE"
      },
      "execution_count": 9,
      "outputs": []
    },
    {
      "cell_type": "code",
      "source": [
        "run_assistant()"
      ],
      "metadata": {
        "colab": {
          "base_uri": "https://localhost:8080/"
        },
        "id": "mixVnsFxY1gp",
        "outputId": "058628e9-5e94-4b4d-b400-b21b80ac72e2"
      },
      "execution_count": 11,
      "outputs": [
        {
          "output_type": "stream",
          "name": "stdout",
          "text": [
            "Assistant: Good Afternoon!\n",
            "Speech output not supported in Colab.\n",
            "Assistant: I am your voice assistant. How can I help you today?\n",
            "Speech output not supported in Colab.\n",
            "You (type your command): 'please open google'\n",
            "Assistant: Opening Google...\n",
            "Speech output not supported in Colab.\n",
            "You (type your command): 'please tell me what time it is now'\n",
            "Assistant: The current time is 12:11:14\n",
            "Speech output not supported in Colab.\n",
            "You (type your command): 'please tell me , good joke'\n",
            "Assistant: How do you know whether a person is a Vim user? Don't worry, they'll tell you.\n",
            "Speech output not supported in Colab.\n",
            "You (type your command): 'open wikipedia'\n",
            "Assistant: Searching Wikipedia...\n",
            "Speech output not supported in Colab.\n"
          ]
        },
        {
          "output_type": "stream",
          "name": "stderr",
          "text": [
            "/usr/local/lib/python3.11/dist-packages/wikipedia/wikipedia.py:389: GuessedAtParserWarning: No parser was explicitly specified, so I'm using the best available HTML parser for this system (\"lxml\"). This usually isn't a problem, but if you run this code on another system, or in a different virtual environment, it may use a different parser and behave differently.\n",
            "\n",
            "The code that caused this warning is on line 389 of the file /usr/local/lib/python3.11/dist-packages/wikipedia/wikipedia.py. To get rid of this warning, pass the additional argument 'features=\"lxml\"' to the BeautifulSoup constructor.\n",
            "\n",
            "  lis = BeautifulSoup(html).find_all('li')\n"
          ]
        },
        {
          "output_type": "stream",
          "name": "stdout",
          "text": [
            "Assistant: Sorry, I couldn't find anything.\n",
            "Speech output not supported in Colab.\n",
            "You (type your command): 'bye'\n",
            "Assistant: Goodbye! Have a nice day!\n",
            "Speech output not supported in Colab.\n"
          ]
        }
      ]
    },
    {
      "cell_type": "code",
      "source": [],
      "metadata": {
        "id": "pEgv-AvAY16I"
      },
      "execution_count": 11,
      "outputs": []
    }
  ]
}